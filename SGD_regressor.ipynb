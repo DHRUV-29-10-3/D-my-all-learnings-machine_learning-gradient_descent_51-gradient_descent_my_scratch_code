{
 "cells": [
  {
   "cell_type": "code",
   "execution_count": 2,
   "id": "6995e4e8-4263-4c33-9cf7-371c842affda",
   "metadata": {},
   "outputs": [],
   "source": [
    "import matplotlib.pyplot as plt\n",
    "import seaborn as sns\n",
    "import pandas as pd \n",
    "from sklearn.datasets import load_diabetes\n",
    "import numpy as np"
   ]
  },
  {
   "cell_type": "code",
   "execution_count": 3,
   "id": "a45aced8-039b-4cfc-b2ac-e07dcf1ac6fb",
   "metadata": {},
   "outputs": [],
   "source": [
    "df = pd.DataFrame(data = load_diabetes().data,columns=load_diabetes().feature_names)"
   ]
  },
  {
   "cell_type": "code",
   "execution_count": 4,
   "id": "69a95a96-99ed-4e0c-a567-3bc867c81626",
   "metadata": {},
   "outputs": [],
   "source": [
    "df['Target'] = load_diabetes().target"
   ]
  },
  {
   "cell_type": "code",
   "execution_count": 5,
   "id": "7373c4ba-bad5-49c9-b692-49592d74e4d1",
   "metadata": {},
   "outputs": [],
   "source": [
    "from sklearn.model_selection import train_test_split"
   ]
  },
  {
   "cell_type": "code",
   "execution_count": 6,
   "id": "cd1857c7-aa2c-4ac4-adb4-b6efab58b549",
   "metadata": {},
   "outputs": [],
   "source": [
    "X = df.iloc[:,0:-1]\n",
    "y = df.iloc[:,-1]\n",
    "X= np.array(X)\n",
    "y = np.array(y)"
   ]
  },
  {
   "cell_type": "code",
   "execution_count": 7,
   "id": "6bed47ef-dc54-4f6c-8102-416fcd35a00d",
   "metadata": {},
   "outputs": [],
   "source": [
    "X_train, X_test, y_train, y_test = train_test_split(X, y, test_size=0.2, random_state=42)"
   ]
  },
  {
   "cell_type": "code",
   "execution_count": 8,
   "id": "6fc71afe-1cf6-4fda-a8e4-3e5f50723f9c",
   "metadata": {},
   "outputs": [],
   "source": [
    "from sklearn.linear_model import LinearRegression"
   ]
  },
  {
   "cell_type": "code",
   "execution_count": 9,
   "id": "d750c45b-9501-4110-8b04-c7c35fd31e8c",
   "metadata": {},
   "outputs": [
    {
     "data": {
      "text/plain": [
       "array([139.5475584 , 179.51720835, 134.03875572, 291.41702925,\n",
       "       123.78965872,  92.1723465 , 258.23238899, 181.33732057,\n",
       "        90.22411311, 108.63375858,  94.13865744, 168.43486358,\n",
       "        53.5047888 , 206.63081659, 100.12925869, 130.66657085,\n",
       "       219.53071499, 250.7803234 , 196.3688346 , 218.57511815,\n",
       "       207.35050182,  88.48340941,  70.43285917, 188.95914235,\n",
       "       154.8868162 , 159.36170122, 188.31263363, 180.39094033,\n",
       "        47.99046561, 108.97453871, 174.77897633,  86.36406656,\n",
       "       132.95761215, 184.53819483, 173.83220911, 190.35858492,\n",
       "       124.4156176 , 119.65110656, 147.95168682,  59.05405241,\n",
       "        71.62331856, 107.68284704, 165.45365458, 155.00975931,\n",
       "       171.04799096,  61.45761356,  71.66672581, 114.96732206,\n",
       "        51.57975523, 167.57599528, 152.52291955,  62.95568515,\n",
       "       103.49741722, 109.20751489, 175.64118426, 154.60296242,\n",
       "        94.41704366, 210.74209145, 120.2566205 ,  77.61585399,\n",
       "       187.93203995, 206.49337474, 140.63167076, 105.59678023,\n",
       "       130.70432536, 202.18534537, 171.13039501, 164.91423047,\n",
       "       124.72472569, 144.81030894, 181.99635452, 199.41369642,\n",
       "       234.21436188, 145.95665512,  79.86703276, 157.36941275,\n",
       "       192.74412541, 208.89814032, 158.58722555, 206.02195855,\n",
       "       107.47971675, 140.93598906,  54.82129332,  55.92573195,\n",
       "       115.01180018,  78.95584188,  81.56087285,  54.37997256,\n",
       "       166.2543518 ])"
      ]
     },
     "execution_count": 9,
     "metadata": {},
     "output_type": "execute_result"
    }
   ],
   "source": [
    "reg = LinearRegression()\n",
    "reg.fit(X_train,y_train)\n",
    "reg.predict(X_test)"
   ]
  },
  {
   "cell_type": "code",
   "execution_count": 10,
   "id": "fa97f97b-830e-4c32-b871-9b5b28f1023e",
   "metadata": {},
   "outputs": [
    {
     "name": "stdout",
     "output_type": "stream",
     "text": [
      "151.34560453985995\n",
      "[  37.90402135 -241.96436231  542.42875852  347.70384391 -931.48884588\n",
      "  518.06227698  163.41998299  275.31790158  736.1988589    48.67065743]\n",
      "0.4526027629719197\n"
     ]
    }
   ],
   "source": [
    "print(reg.intercept_)\n",
    "print(reg.coef_)\n",
    "from sklearn.metrics import r2_score\n",
    "y_pred = reg.predict(X_test)\n",
    "print(r2_score(y_test,y_pred))"
   ]
  },
  {
   "cell_type": "code",
   "execution_count": 47,
   "id": "63bc81fd-410d-42b3-89f7-01089bd8bbb1",
   "metadata": {},
   "outputs": [],
   "source": [
    "class SGD_regressor:\n",
    "    def __init__(self,lr,epochs):\n",
    "        self.lr = lr\n",
    "        self.epochs = epochs    \n",
    "\n",
    "    def fit(self,X_train,y_train):\n",
    "        self.intercept = 0 \n",
    "        self.coeff = np.ones(X_train.shape[1]) \n",
    "\n",
    "        for i in range(self.epochs):\n",
    "            for j in range(X_train.shape[0]):\n",
    "                idx = np.random.randint(0,X_train.shape[0])\n",
    "                y_hat = self.intercept + np.dot(X_train[idx], self.coeff)\n",
    "                \n",
    "                loss_slope = -2*(y_train[idx]-y_hat)\n",
    "                self.intercept = self.intercept - self.lr*loss_slope\n",
    "\n",
    "                loss_slope_2 = -2*np.dot(y_train[idx]-y_hat,X_train[idx])\n",
    "                self.coeff = self.coeff - self.lr*loss_slope_2\n",
    "        print(self.intercept)\n",
    "        print(self.coeff)\n",
    "    \n",
    "    def predict(self,X_test):\n",
    "        y_pred = self.intercept + np.dot(X_test, self.coeff)\n",
    "        return y_pred\n",
    "                \n",
    "        "
   ]
  },
  {
   "cell_type": "code",
   "execution_count": 48,
   "id": "e6479f90-bd44-4b19-8307-140bc482bfd7",
   "metadata": {},
   "outputs": [],
   "source": [
    "sgd = SGD_regressor(0.01,50)"
   ]
  },
  {
   "cell_type": "code",
   "execution_count": 49,
   "id": "88464ad6-002c-4216-9273-ead17678d799",
   "metadata": {},
   "outputs": [
    {
     "name": "stdout",
     "output_type": "stream",
     "text": [
      "154.49613928228925\n",
      "[  56.07232124  -90.18255555  361.50228726  255.63559861    6.44515628\n",
      "  -27.60705475 -184.43607292  154.7951879   286.87936762  143.26404863]\n"
     ]
    }
   ],
   "source": [
    "sgd.fit(X_train,y_train)"
   ]
  },
  {
   "cell_type": "code",
   "execution_count": 50,
   "id": "ba1e958c-9e1d-4b50-af91-c840864d6ef5",
   "metadata": {},
   "outputs": [
    {
     "name": "stdout",
     "output_type": "stream",
     "text": [
      "0.44736961729508384\n"
     ]
    }
   ],
   "source": [
    "y_pred_2 = sgd.predict(X_test)\n",
    "print(r2_score(y_test,y_pred_2))"
   ]
  }
 ],
 "metadata": {
  "kernelspec": {
   "display_name": "Python 3 (ipykernel)",
   "language": "python",
   "name": "python3"
  },
  "language_info": {
   "codemirror_mode": {
    "name": "ipython",
    "version": 3
   },
   "file_extension": ".py",
   "mimetype": "text/x-python",
   "name": "python",
   "nbconvert_exporter": "python",
   "pygments_lexer": "ipython3",
   "version": "3.11.4"
  },
  "widgets": {
   "application/vnd.jupyter.widget-state+json": {
    "state": {},
    "version_major": 2,
    "version_minor": 0
   }
  }
 },
 "nbformat": 4,
 "nbformat_minor": 5
}
